{
 "cells": [
  {
   "cell_type": "markdown",
   "id": "576b2146",
   "metadata": {},
   "source": [
    "# GMF"
   ]
  },
  {
   "cell_type": "code",
   "execution_count": 18,
   "id": "a1a40aa0",
   "metadata": {},
   "outputs": [],
   "source": [
    "import torch\n",
    "import torch.nn as nn\n",
    "from torch.utils.data import DataLoader"
   ]
  },
  {
   "cell_type": "code",
   "execution_count": 24,
   "id": "161df340",
   "metadata": {},
   "outputs": [],
   "source": [
    "class GMF(nn.Module):\n",
    "    \"\"\"\n",
    "    \n",
    "    Note: Convert input user_id and item_id to 0-based indices\n",
    "    \"\"\"\n",
    "    def __init__(self, n_users, n_items, embed_dim):\n",
    "        super().__init__()\n",
    "        self.user_embed = nn.Embedding(n_users, embed_dim)\n",
    "        self.item_embed = nn.Embedding(n_items, embed_dim)\n",
    "        self.linear = nn.Linear(embed_dim, 1)\n",
    "        self.sigmoid = nn.Sigmoid()\n",
    "        \n",
    "        self._init_weight()\n",
    "        \n",
    "    def _init_weight(self):\n",
    "        nn.init.normal_(self.user_embed.weight, std=0.01)\n",
    "        nn.init.normal_(self.item_embed.weight, std=0.01)\n",
    "        nn.init.normal_(self.linear.weight, std=0.01)\n",
    "    \n",
    "    def forward(self, users, items):\n",
    "        users -= 1\n",
    "        items -= 1\n",
    "        user_embeds = self.user_embed(users)\n",
    "        item_embeds = self.item_embed(items)\n",
    "        out = user_embeds * item_embeds\n",
    "        out = self.linear(out)\n",
    "        out = self.sigmoid(out) * 5\n",
    "        return out"
   ]
  },
  {
   "cell_type": "code",
   "execution_count": 26,
   "id": "1bb694a3",
   "metadata": {},
   "outputs": [],
   "source": [
    "from typing import Union\n",
    "def train(model: nn.Module, \n",
    "          dataloader: DataLoader, \n",
    "          criterion: nn.Module, \n",
    "          optimizer: torch.optim.Optimizer, \n",
    "          device: Union[torch.device, str]):\n",
    "    model.train()\n",
    "    for users, items, ratings in dataloader: \n",
    "        users, items, ratings = users.to(device), items.to(device), ratings.to(device)\n",
    "        # Zero out the grad\n",
    "        optimizer.zero_grad()\n",
    "        \n",
    "        # Predict the ratings\n",
    "        outputs = model(users, items)\n",
    "        \n",
    "        # Calculate loss\n",
    "        loss = criterion(outputs, ratings)\n",
    "        \n",
    "        # Calculate gradient descent\n",
    "        loss.backward()\n",
    "        \n",
    "        # Update weight\n",
    "        optimizer.step()\n",
    "\n",
    "def evaluation(model: nn.Module, \n",
    "               dataloader: DataLoader, \n",
    "               criterion: nn.Module, \n",
    "               device: Union[torch.device, str]):     \n",
    "        model.eval()\n",
    "        total_loss = 0\n",
    "        error = 0\n",
    "        total_ratings = 0\n",
    "        with torch.no_grad():\n",
    "            for users, items, ratings in dataloader:\n",
    "                users, items = users.to(device), items.to(device)\n",
    "                outputs = model(users, items)\n",
    "                loss = criterion(outputs, ratings)\n",
    "                total_loss += loss\n",
    "                \n",
    "                error += ((outputs-ratings)**2).sum().item()\n",
    "                total_ratings += ratings.size(0)\n",
    "        \n",
    "        return total_loss / len(dataloader), torch.sqrt(error/total_ratings)        "
   ]
  },
  {
   "cell_type": "code",
   "execution_count": 27,
   "id": "c4348f80",
   "metadata": {},
   "outputs": [
    {
     "name": "stderr",
     "output_type": "stream",
     "text": [
      "c:\\Users\\T14s G4\\AppData\\Local\\Programs\\Python\\Python312\\Lib\\site-packages\\torch\\nn\\modules\\loss.py:610: UserWarning: Using a target size (torch.Size([32])) that is different to the input size (torch.Size([32, 1])). This will likely lead to incorrect results due to broadcasting. Please ensure they have the same size.\n",
      "  return F.mse_loss(input, target, reduction=self.reduction)\n"
     ]
    },
    {
     "ename": "TypeError",
     "evalue": "sqrt(): argument 'input' (position 1) must be Tensor, not float",
     "output_type": "error",
     "traceback": [
      "\u001b[1;31m---------------------------------------------------------------------------\u001b[0m",
      "\u001b[1;31mTypeError\u001b[0m                                 Traceback (most recent call last)",
      "Cell \u001b[1;32mIn[27], line 21\u001b[0m\n\u001b[0;32m     18\u001b[0m optimizer \u001b[38;5;241m=\u001b[39m torch\u001b[38;5;241m.\u001b[39moptim\u001b[38;5;241m.\u001b[39mAdam(model\u001b[38;5;241m.\u001b[39mparameters(), lr\u001b[38;5;241m=\u001b[39mlearning_rate)\n\u001b[0;32m     20\u001b[0m train(model, training_dataloader, criterion, optimizer, device)\n\u001b[1;32m---> 21\u001b[0m loss, rmse \u001b[38;5;241m=\u001b[39m \u001b[43mevaluation\u001b[49m\u001b[43m(\u001b[49m\u001b[43mmodel\u001b[49m\u001b[43m,\u001b[49m\u001b[43m \u001b[49m\u001b[43mtesting_dataloader\u001b[49m\u001b[43m,\u001b[49m\u001b[43m \u001b[49m\u001b[43mcriterion\u001b[49m\u001b[43m,\u001b[49m\u001b[43m \u001b[49m\u001b[43mdevice\u001b[49m\u001b[43m)\u001b[49m\n\u001b[0;32m     22\u001b[0m \u001b[38;5;28mprint\u001b[39m(\u001b[38;5;124mf\u001b[39m\u001b[38;5;124m\"\u001b[39m\u001b[38;5;124mDataset \u001b[39m\u001b[38;5;132;01m{\u001b[39;00mi\u001b[38;5;132;01m}\u001b[39;00m\u001b[38;5;124m: Loss: \u001b[39m\u001b[38;5;132;01m{\u001b[39;00mloss\u001b[38;5;132;01m}\u001b[39;00m\u001b[38;5;124m, RMSE: \u001b[39m\u001b[38;5;132;01m{\u001b[39;00mrmse\u001b[38;5;132;01m}\u001b[39;00m\u001b[38;5;124m\"\u001b[39m)\n",
      "Cell \u001b[1;32mIn[26], line 43\u001b[0m, in \u001b[0;36mevaluation\u001b[1;34m(model, dataloader, criterion, device)\u001b[0m\n\u001b[0;32m     40\u001b[0m         error \u001b[38;5;241m+\u001b[39m\u001b[38;5;241m=\u001b[39m ((outputs\u001b[38;5;241m-\u001b[39mratings)\u001b[38;5;241m*\u001b[39m\u001b[38;5;241m*\u001b[39m\u001b[38;5;241m2\u001b[39m)\u001b[38;5;241m.\u001b[39msum()\u001b[38;5;241m.\u001b[39mitem()\n\u001b[0;32m     41\u001b[0m         total_ratings \u001b[38;5;241m+\u001b[39m\u001b[38;5;241m=\u001b[39m ratings\u001b[38;5;241m.\u001b[39msize(\u001b[38;5;241m0\u001b[39m)\n\u001b[1;32m---> 43\u001b[0m \u001b[38;5;28;01mreturn\u001b[39;00m total_loss \u001b[38;5;241m/\u001b[39m \u001b[38;5;28mlen\u001b[39m(dataloader), \u001b[43mtorch\u001b[49m\u001b[38;5;241;43m.\u001b[39;49m\u001b[43msqrt\u001b[49m\u001b[43m(\u001b[49m\u001b[43merror\u001b[49m\u001b[38;5;241;43m/\u001b[39;49m\u001b[43mtotal_ratings\u001b[49m\u001b[43m)\u001b[49m\n",
      "\u001b[1;31mTypeError\u001b[0m: sqrt(): argument 'input' (position 1) must be Tensor, not float"
     ]
    }
   ],
   "source": [
    "from utils import RatingDataset\n",
    "from torch.utils.data import DataLoader\n",
    "\n",
    "device = torch.device(\"cuda\" if torch.cuda.is_available() else \"cpu\")\n",
    "learning_rate = 0.001\n",
    "for i in range(1, 6):\n",
    "    training_filepath = f'../../data/ml-100k/u{i}.base'\n",
    "    testing_filepath = f'../../data/ml-100k/u{i}.test'\n",
    "    \n",
    "    training_dataset = RatingDataset(training_filepath)\n",
    "    testing_dataset = RatingDataset(testing_filepath)\n",
    "    \n",
    "    training_dataloader = DataLoader(training_dataset, batch_size=32, shuffle=True)\n",
    "    testing_dataloader = DataLoader(testing_dataset, batch_size=32, shuffle=False)\n",
    "    \n",
    "    model = GMF(943, 1682, 64)\n",
    "    criterion = nn.MSELoss()\n",
    "    optimizer = torch.optim.Adam(model.parameters(), lr=learning_rate)\n",
    "    \n",
    "    train(model, training_dataloader, criterion, optimizer, device)\n",
    "    loss, rmse = evaluation(model, testing_dataloader, criterion, device)\n",
    "    print(f\"Dataset {i}: Loss: {loss}, RMSE: {rmse}\")\n",
    "    "
   ]
  }
 ],
 "metadata": {
  "kernelspec": {
   "display_name": "Python 3",
   "language": "python",
   "name": "python3"
  },
  "language_info": {
   "codemirror_mode": {
    "name": "ipython",
    "version": 3
   },
   "file_extension": ".py",
   "mimetype": "text/x-python",
   "name": "python",
   "nbconvert_exporter": "python",
   "pygments_lexer": "ipython3",
   "version": "3.12.2"
  }
 },
 "nbformat": 4,
 "nbformat_minor": 5
}
