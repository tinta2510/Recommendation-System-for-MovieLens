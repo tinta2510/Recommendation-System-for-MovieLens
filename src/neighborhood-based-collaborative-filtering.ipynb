{
 "cells": [
  {
   "cell_type": "markdown",
   "metadata": {},
   "source": [
    "# Neighborhood-based Collaborative Filtering"
   ]
  },
  {
   "cell_type": "code",
   "execution_count": null,
   "metadata": {},
   "outputs": [],
   "source": [
    "import pandas as pd\n",
    "from scipy.spatial.distance import cdist\n",
    "import numpy as np\n",
    "import math\n",
    "from scipy.sparse import csr_matrix"
   ]
  },
  {
   "cell_type": "markdown",
   "metadata": {},
   "source": [
    "## Step 1: Build User-Item Rating Matrix"
   ]
  },
  {
   "cell_type": "code",
   "execution_count": null,
   "metadata": {},
   "outputs": [],
   "source": []
  },
  {
   "cell_type": "markdown",
   "metadata": {},
   "source": [
    "## Step 2: Normalize Ratings"
   ]
  },
  {
   "cell_type": "code",
   "execution_count": null,
   "metadata": {},
   "outputs": [
    {
     "name": "stdout",
     "output_type": "stream",
     "text": [
      "[[   1    1    5]\n",
      " [   1    2    3]\n",
      " [   1    3    4]\n",
      " ...\n",
      " [ 943 1188    3]\n",
      " [ 943 1228    3]\n",
      " [ 943 1330    3]]\n"
     ]
    },
    {
     "ename": "IndexError",
     "evalue": "index 2 is out of bounds for axis 0 with size 2",
     "output_type": "error",
     "traceback": [
      "\u001b[1;31m---------------------------------------------------------------------------\u001b[0m",
      "\u001b[1;31mIndexError\u001b[0m                                Traceback (most recent call last)",
      "Cell \u001b[1;32mIn[16], line 85\u001b[0m\n\u001b[0;32m     82\u001b[0m test_ratings \u001b[38;5;241m=\u001b[39m pd\u001b[38;5;241m.\u001b[39mread_csv(\u001b[38;5;124mf\u001b[39m\u001b[38;5;124m'\u001b[39m\u001b[38;5;124m../data/ml-100k/u\u001b[39m\u001b[38;5;132;01m{\u001b[39;00mi\u001b[38;5;132;01m}\u001b[39;00m\u001b[38;5;124m.test\u001b[39m\u001b[38;5;124m'\u001b[39m, usecols\u001b[38;5;241m=\u001b[39m\u001b[38;5;28mrange\u001b[39m(\u001b[38;5;241m3\u001b[39m),\n\u001b[0;32m     83\u001b[0m                             sep\u001b[38;5;241m=\u001b[39m\u001b[38;5;124m'\u001b[39m\u001b[38;5;130;01m\\t\u001b[39;00m\u001b[38;5;124m'\u001b[39m, names\u001b[38;5;241m=\u001b[39m[\u001b[38;5;124m'\u001b[39m\u001b[38;5;124muser_id\u001b[39m\u001b[38;5;124m'\u001b[39m, \u001b[38;5;124m'\u001b[39m\u001b[38;5;124mitem_id\u001b[39m\u001b[38;5;124m'\u001b[39m, \u001b[38;5;124m'\u001b[39m\u001b[38;5;124mrating\u001b[39m\u001b[38;5;124m'\u001b[39m])\n\u001b[0;32m     84\u001b[0m recommender \u001b[38;5;241m=\u001b[39m NeighborhoodCF()\n\u001b[1;32m---> 85\u001b[0m \u001b[43mrecommender\u001b[49m\u001b[38;5;241;43m.\u001b[39;49m\u001b[43mfit\u001b[49m\u001b[43m(\u001b[49m\u001b[43mtrain_ratings\u001b[49m\u001b[38;5;241;43m.\u001b[39;49m\u001b[43mvalues\u001b[49m\u001b[43m)\u001b[49m\n\u001b[0;32m     86\u001b[0m \u001b[38;5;28mprint\u001b[39m(\u001b[38;5;124mf\u001b[39m\u001b[38;5;124m\"\u001b[39m\u001b[38;5;124mEvaluation of model on dataset \u001b[39m\u001b[38;5;132;01m{\u001b[39;00mi\u001b[38;5;132;01m}\u001b[39;00m\u001b[38;5;124m\"\u001b[39m)\n\u001b[0;32m     87\u001b[0m \u001b[38;5;28mprint\u001b[39m(recommender\u001b[38;5;241m.\u001b[39mevaluate(train_ratings\u001b[38;5;241m.\u001b[39mvalues))\n",
      "Cell \u001b[1;32mIn[16], line 23\u001b[0m, in \u001b[0;36mNeighborhoodCF.fit\u001b[1;34m(self, ratings)\u001b[0m\n\u001b[0;32m     21\u001b[0m \u001b[38;5;28mself\u001b[39m\u001b[38;5;241m.\u001b[39mn_users \u001b[38;5;241m=\u001b[39m \u001b[38;5;28mint\u001b[39m(np\u001b[38;5;241m.\u001b[39mmax(\u001b[38;5;28mself\u001b[39m\u001b[38;5;241m.\u001b[39mratings[:, \u001b[38;5;241m0\u001b[39m])) \n\u001b[0;32m     22\u001b[0m \u001b[38;5;28mself\u001b[39m\u001b[38;5;241m.\u001b[39mn_items \u001b[38;5;241m=\u001b[39m \u001b[38;5;28mint\u001b[39m(np\u001b[38;5;241m.\u001b[39mmax(\u001b[38;5;28mself\u001b[39m\u001b[38;5;241m.\u001b[39mratings[:, \u001b[38;5;241m1\u001b[39m])) \n\u001b[1;32m---> 23\u001b[0m \u001b[38;5;28;43mself\u001b[39;49m\u001b[38;5;241;43m.\u001b[39;49m\u001b[43m_normalize_ratings\u001b[49m\u001b[43m(\u001b[49m\u001b[43m)\u001b[49m\n\u001b[0;32m     24\u001b[0m \u001b[38;5;28mself\u001b[39m\u001b[38;5;241m.\u001b[39m_compute_similarity()\n",
      "Cell \u001b[1;32mIn[16], line 38\u001b[0m, in \u001b[0;36mNeighborhoodCF._normalize_ratings\u001b[1;34m(self)\u001b[0m\n\u001b[0;32m     36\u001b[0m ids \u001b[38;5;241m=\u001b[39m np\u001b[38;5;241m.\u001b[39mwhere(\u001b[38;5;28mself\u001b[39m\u001b[38;5;241m.\u001b[39mratings[:][\u001b[38;5;241m0\u001b[39m] \u001b[38;5;241m==\u001b[39m i\u001b[38;5;241m+\u001b[39m\u001b[38;5;241m1\u001b[39m)\n\u001b[0;32m     37\u001b[0m \u001b[38;5;66;03m# Average ratings of user with id i+1\u001b[39;00m\n\u001b[1;32m---> 38\u001b[0m \u001b[38;5;28mself\u001b[39m\u001b[38;5;241m.\u001b[39maverage_ratings[i] \u001b[38;5;241m=\u001b[39m np\u001b[38;5;241m.\u001b[39mmean(\u001b[38;5;28;43mself\u001b[39;49m\u001b[38;5;241;43m.\u001b[39;49m\u001b[43mratings\u001b[49m\u001b[43m[\u001b[49m\u001b[43mids\u001b[49m\u001b[43m]\u001b[49m\u001b[43m[\u001b[49m\u001b[38;5;241;43m2\u001b[39;49m\u001b[43m]\u001b[49m)\n\u001b[0;32m     39\u001b[0m \u001b[38;5;66;03m# Normalize ratings table\u001b[39;00m\n\u001b[0;32m     40\u001b[0m \u001b[38;5;28mself\u001b[39m\u001b[38;5;241m.\u001b[39mnormalized_ratings[ids][\u001b[38;5;241m2\u001b[39m] \u001b[38;5;241m-\u001b[39m\u001b[38;5;241m=\u001b[39m \u001b[38;5;28mself\u001b[39m\u001b[38;5;241m.\u001b[39maverage_ratings[i]\n",
      "\u001b[1;31mIndexError\u001b[0m: index 2 is out of bounds for axis 0 with size 2"
     ]
    }
   ],
   "source": [
    "class NeighborhoodCF:\n",
    "    def __init__(self, k: int = 10, distance_func = cdist, uuCF: bool = True):\n",
    "        \"\"\"\n",
    "        Initialize the NeighborhoodCF class.\n",
    "        \n",
    "        Args:\n",
    "            user_item_matrix (DataFrame): Matrix with users as rows, \n",
    "                items as columns and ratings as values.\n",
    "            k (int): Number of neighbors to use for prediction.\n",
    "            distance_func (function): Function to compute distance between vectors.\n",
    "            uuCF (bool): If True, use user-user collaborative filtering, \n",
    "                else item-item.\n",
    "        \"\"\"\n",
    "        self.uuCF = uuCF\n",
    "        self.distance_func = distance_func\n",
    "        self.k = k\n",
    "    \n",
    "    def fit(self, ratings):\n",
    "        self.ratings = ratings if self.uuCF else ratings[:, [1, 0, 2]]\n",
    "        # number of users/items equals max id because id start from 0\n",
    "        self.n_users = int(np.max(self.ratings[:, 0])) \n",
    "        self.n_items = int(np.max(self.ratings[:, 1])) \n",
    "        self._normalize_ratings()\n",
    "        self._compute_similarity()\n",
    "        \n",
    "    def _normalize_ratings(self):\n",
    "        \"\"\"\n",
    "        Normalize the ratings by subtracting the mean rating for each user.\n",
    "        \"\"\"\n",
    "        self.average_ratings = np.zeros((self.n_users,))\n",
    "        self.normalized_ratings = self.ratings.copy()\n",
    "        print(self.ratings)\n",
    "        # REMEMBER: ID starting from 1\n",
    "        for i in range(self.n_users):\n",
    "            # Idx of ratings of user with id i+1\n",
    "            ids = np.where(self.ratings[:][0] == i+1)\n",
    "            # Average ratings of user with id i+1\n",
    "            self.average_ratings[i] = np.mean(self.ratings[ids][2])\n",
    "            # Normalize ratings table\n",
    "            self.normalized_ratings[ids][2] -= self.average_ratings[i]\n",
    "        \n",
    "        # User-item rating matrix\n",
    "        self.u_i_matrix = csr_matrix(self.normalized_ratings[:, 2], \n",
    "                                     (self.normalized_ratings[:,0], self.normalized_ratings[:,1]), \n",
    "                                     shape=(self.n_users, self.n_items))\n",
    "        \n",
    "    def _compute_similarity(self):\n",
    "        self.similarity_matrix = cdist(self.u_i_matrix, self.u_i_matrix, metric=\"cosine\")\n",
    "        \n",
    "    def __pred(self, u_id, i_id):\n",
    "        # Scale u_id and i_id starting from 0\n",
    "        u_id -= 1\n",
    "        i_id -= 1\n",
    "        \n",
    "        # Step 1: Find users who rated item i\n",
    "        u_ids = np.where(self.ratings[:,1] == i_id+1) - 1 # This is user_id (start from 1)!!!\n",
    "        # Step 2: Find most similar users among u_ids\n",
    "        nearest_uids = np.argsort(self.similarity_matrix[u_id][u_ids])[-self.k:]\n",
    "        \n",
    "\n",
    "        ratings = (np.sum(self.normalized_ratings[nearest_uids] \n",
    "                          * self.similarity_matrix[u_id][nearest_uids]) \n",
    "                   / np.sum(self.similarity_matrix[u_id][nearest_uids]))\n",
    "        return ratings + self.average_ratings[u_id]\n",
    "    \n",
    "    def predict(self, u_id, i_id):\n",
    "        if self.uuCF:\n",
    "            return self.__pred(u_id, i_id)\n",
    "        return self.__pred(i_id, u_id)\n",
    "    \n",
    "\n",
    "    def evaluate(self, test_ratings: np.ndarray):\n",
    "        self.test_ratings = test_ratings if self.uuCF else test_ratings[:, [1, 0, 2]]\n",
    "        mse = 0\n",
    "        for u, i, rate in test_ratings:\n",
    "            mse += (rate - self.predict(u, i)) ** 2\n",
    "        return math.sqrt(mse)\n",
    "    \n",
    "for i in range(1, 6):\n",
    "    train_ratings = pd.read_csv(f'../data/ml-100k/u{i}.base', usecols=range(3),\n",
    "                                sep='\\t', names=['user_id', 'item_id', 'rating'])\n",
    "    test_ratings = pd.read_csv(f'../data/ml-100k/u{i}.test', usecols=range(3),\n",
    "                                sep='\\t', names=['user_id', 'item_id', 'rating'])\n",
    "    recommender = NeighborhoodCF()\n",
    "    recommender.fit(train_ratings.values)\n",
    "    print(f\"Evaluation of model on dataset {i}\")\n",
    "    print(recommender.evaluate(train_ratings.values))\n",
    "    print(recommender.evaluate(test_ratings.values))"
   ]
  },
  {
   "cell_type": "code",
   "execution_count": null,
   "metadata": {},
   "outputs": [
    {
     "ename": "IndexError",
     "evalue": "index 2 is out of bounds for axis 0 with size 2",
     "output_type": "error",
     "traceback": [
      "\u001b[1;31m---------------------------------------------------------------------------\u001b[0m",
      "\u001b[1;31mIndexError\u001b[0m                                Traceback (most recent call last)",
      "Cell \u001b[1;32mIn[15], line 7\u001b[0m\n\u001b[0;32m      4\u001b[0m test_ratings \u001b[38;5;241m=\u001b[39m pd\u001b[38;5;241m.\u001b[39mread_csv(\u001b[38;5;124mf\u001b[39m\u001b[38;5;124m'\u001b[39m\u001b[38;5;124m../data/ml-100k/u\u001b[39m\u001b[38;5;132;01m{\u001b[39;00mi\u001b[38;5;132;01m}\u001b[39;00m\u001b[38;5;124m.test\u001b[39m\u001b[38;5;124m'\u001b[39m, usecols\u001b[38;5;241m=\u001b[39m\u001b[38;5;28mrange\u001b[39m(\u001b[38;5;241m3\u001b[39m),\n\u001b[0;32m      5\u001b[0m                             sep\u001b[38;5;241m=\u001b[39m\u001b[38;5;124m'\u001b[39m\u001b[38;5;130;01m\\t\u001b[39;00m\u001b[38;5;124m'\u001b[39m, names\u001b[38;5;241m=\u001b[39m[\u001b[38;5;124m'\u001b[39m\u001b[38;5;124muser_id\u001b[39m\u001b[38;5;124m'\u001b[39m, \u001b[38;5;124m'\u001b[39m\u001b[38;5;124mitem_id\u001b[39m\u001b[38;5;124m'\u001b[39m, \u001b[38;5;124m'\u001b[39m\u001b[38;5;124mrating\u001b[39m\u001b[38;5;124m'\u001b[39m])\n\u001b[0;32m      6\u001b[0m recommender \u001b[38;5;241m=\u001b[39m NeighborhoodCF()\n\u001b[1;32m----> 7\u001b[0m \u001b[43mrecommender\u001b[49m\u001b[38;5;241;43m.\u001b[39;49m\u001b[43mfit\u001b[49m\u001b[43m(\u001b[49m\u001b[43mtrain_ratings\u001b[49m\u001b[38;5;241;43m.\u001b[39;49m\u001b[43mvalues\u001b[49m\u001b[43m)\u001b[49m\n\u001b[0;32m      8\u001b[0m \u001b[38;5;28mprint\u001b[39m(\u001b[38;5;124mf\u001b[39m\u001b[38;5;124m\"\u001b[39m\u001b[38;5;124mEvaluation of model on dataset \u001b[39m\u001b[38;5;132;01m{\u001b[39;00mi\u001b[38;5;132;01m}\u001b[39;00m\u001b[38;5;124m\"\u001b[39m)\n\u001b[0;32m      9\u001b[0m \u001b[38;5;28mprint\u001b[39m(recommender\u001b[38;5;241m.\u001b[39mevaluate(train_ratings\u001b[38;5;241m.\u001b[39mvalues))\n",
      "Cell \u001b[1;32mIn[7], line 23\u001b[0m, in \u001b[0;36mNeighborhoodCF.fit\u001b[1;34m(self, ratings)\u001b[0m\n\u001b[0;32m     21\u001b[0m \u001b[38;5;28mself\u001b[39m\u001b[38;5;241m.\u001b[39mn_users \u001b[38;5;241m=\u001b[39m \u001b[38;5;28mint\u001b[39m(np\u001b[38;5;241m.\u001b[39mmax(\u001b[38;5;28mself\u001b[39m\u001b[38;5;241m.\u001b[39mratings[:, \u001b[38;5;241m0\u001b[39m])) \n\u001b[0;32m     22\u001b[0m \u001b[38;5;28mself\u001b[39m\u001b[38;5;241m.\u001b[39mn_items \u001b[38;5;241m=\u001b[39m \u001b[38;5;28mint\u001b[39m(np\u001b[38;5;241m.\u001b[39mmax(\u001b[38;5;28mself\u001b[39m\u001b[38;5;241m.\u001b[39mratings[:, \u001b[38;5;241m1\u001b[39m])) \n\u001b[1;32m---> 23\u001b[0m \u001b[38;5;28;43mself\u001b[39;49m\u001b[38;5;241;43m.\u001b[39;49m\u001b[43m_normalize_ratings\u001b[49m\u001b[43m(\u001b[49m\u001b[43m)\u001b[49m\n\u001b[0;32m     24\u001b[0m \u001b[38;5;28mself\u001b[39m\u001b[38;5;241m.\u001b[39m_compute_similarity()\n",
      "Cell \u001b[1;32mIn[7], line 37\u001b[0m, in \u001b[0;36mNeighborhoodCF._normalize_ratings\u001b[1;34m(self)\u001b[0m\n\u001b[0;32m     35\u001b[0m ids \u001b[38;5;241m=\u001b[39m np\u001b[38;5;241m.\u001b[39mwhere(\u001b[38;5;28mself\u001b[39m\u001b[38;5;241m.\u001b[39mratings[:][\u001b[38;5;241m0\u001b[39m] \u001b[38;5;241m==\u001b[39m i\u001b[38;5;241m+\u001b[39m\u001b[38;5;241m1\u001b[39m)\n\u001b[0;32m     36\u001b[0m \u001b[38;5;66;03m# Average ratings of user with id i+1\u001b[39;00m\n\u001b[1;32m---> 37\u001b[0m \u001b[38;5;28mself\u001b[39m\u001b[38;5;241m.\u001b[39maverage_ratings[i] \u001b[38;5;241m=\u001b[39m np\u001b[38;5;241m.\u001b[39mmean(\u001b[38;5;28;43mself\u001b[39;49m\u001b[38;5;241;43m.\u001b[39;49m\u001b[43mratings\u001b[49m\u001b[43m[\u001b[49m\u001b[43mids\u001b[49m\u001b[43m]\u001b[49m\u001b[43m[\u001b[49m\u001b[38;5;241;43m2\u001b[39;49m\u001b[43m]\u001b[49m)\n\u001b[0;32m     38\u001b[0m \u001b[38;5;66;03m# Normalize ratings table\u001b[39;00m\n\u001b[0;32m     39\u001b[0m \u001b[38;5;28mself\u001b[39m\u001b[38;5;241m.\u001b[39mnormalized_ratings[ids][\u001b[38;5;241m2\u001b[39m] \u001b[38;5;241m-\u001b[39m\u001b[38;5;241m=\u001b[39m \u001b[38;5;28mself\u001b[39m\u001b[38;5;241m.\u001b[39maverage_ratings[i]\n",
      "\u001b[1;31mIndexError\u001b[0m: index 2 is out of bounds for axis 0 with size 2"
     ]
    }
   ],
   "source": []
  }
 ],
 "metadata": {
  "kernelspec": {
   "display_name": "Python 3",
   "language": "python",
   "name": "python3"
  },
  "language_info": {
   "codemirror_mode": {
    "name": "ipython",
    "version": 3
   },
   "file_extension": ".py",
   "mimetype": "text/x-python",
   "name": "python",
   "nbconvert_exporter": "python",
   "pygments_lexer": "ipython3",
   "version": "3.12.2"
  }
 },
 "nbformat": 4,
 "nbformat_minor": 2
}
